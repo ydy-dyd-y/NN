{
 "cells": [
  {
   "cell_type": "markdown",
   "id": "442d129d",
   "metadata": {},
   "source": [
    "# single layer perceptron"
   ]
  },
  {
   "cell_type": "code",
   "execution_count": 5,
   "id": "714bf6c0",
   "metadata": {},
   "outputs": [],
   "source": [
    "import torch\n",
    "import torch.nn as nn"
   ]
  },
  {
   "cell_type": "code",
   "execution_count": 2,
   "id": "fe0f0147",
   "metadata": {},
   "outputs": [],
   "source": [
    "device = 'cuda' if torch.cuda.is_available() else 'cpu'\n",
    "torch.manual_seed(777)\n",
    "if device == 'cuda':\n",
    "    torch.cuda.manual_seed_all(777)"
   ]
  },
  {
   "cell_type": "code",
   "execution_count": 3,
   "id": "a31089ef",
   "metadata": {},
   "outputs": [],
   "source": [
    "X = torch.FloatTensor([[0, 0], [0, 1], [1, 0], [1, 1]]).to(device)\n",
    "Y = torch.FloatTensor([[0], [1], [1], [0]]).to(device)"
   ]
  },
  {
   "cell_type": "code",
   "execution_count": 6,
   "id": "981cbf8e",
   "metadata": {},
   "outputs": [],
   "source": [
    "linear = nn.Linear(2, 1, bias=True)\n",
    "sigmoid = nn.Sigmoid()\n",
    "model = nn.Sequential(linear, sigmoid).to(device)"
   ]
  },
  {
   "cell_type": "code",
   "execution_count": 7,
   "id": "166bc7a7",
   "metadata": {},
   "outputs": [],
   "source": [
    "criterion = torch.nn.BCELoss().to(device)\n",
    "optimizer = torch.optim.SGD(model.parameters(), lr=1)"
   ]
  },
  {
   "cell_type": "code",
   "execution_count": 9,
   "id": "ae27dbbd",
   "metadata": {},
   "outputs": [
    {
     "name": "stdout",
     "output_type": "stream",
     "text": [
      "0 0.6931471824645996\n",
      "100 0.6931471824645996\n",
      "200 0.6931471824645996\n",
      "300 0.6931471824645996\n",
      "400 0.6931471824645996\n",
      "500 0.6931471824645996\n",
      "600 0.6931471824645996\n",
      "700 0.6931471824645996\n",
      "800 0.6931471824645996\n",
      "900 0.6931471824645996\n",
      "1000 0.6931471824645996\n"
     ]
    }
   ],
   "source": [
    "for step in range(1001): \n",
    "    optimizer.zero_grad()\n",
    "    hypothesis = model(X)\n",
    "\n",
    "    # 비용 함수\n",
    "    cost = criterion(hypothesis, Y)\n",
    "    cost.backward()\n",
    "    optimizer.step()\n",
    "\n",
    "    if step % 100 == 0: # 100번째 에포크마다 비용 출력\n",
    "        print(step, cost.item())"
   ]
  },
  {
   "cell_type": "markdown",
   "id": "ee6a493b",
   "metadata": {},
   "source": [
    "200번 에포크에 비용이 0.6931471824645996가 출력된 이후에는 10,000번 에포크가 되는 순간까지 더 이상 비용이 줄어들지 않는다. 이는 단층 퍼셉트론은 XOR 문제를 풀 수 없기 때문"
   ]
  },
  {
   "cell_type": "markdown",
   "id": "ce07d4f7",
   "metadata": {},
   "source": [
    ">학습된 단층 퍼셉트론의 예측값 확인하기"
   ]
  },
  {
   "cell_type": "code",
   "execution_count": 10,
   "id": "1b463f95",
   "metadata": {},
   "outputs": [
    {
     "name": "stdout",
     "output_type": "stream",
     "text": [
      "모델의 출력값(Hypothesis):  [[0.5]\n",
      " [0.5]\n",
      " [0.5]\n",
      " [0.5]]\n",
      "모델의 예측값(Predicted):  [[0.]\n",
      " [0.]\n",
      " [0.]\n",
      " [0.]]\n",
      "실제값(Y):  [[0.]\n",
      " [1.]\n",
      " [1.]\n",
      " [0.]]\n",
      "정확도(Accuracy):  0.5\n"
     ]
    }
   ],
   "source": [
    "with torch.no_grad():\n",
    "    hypothesis = model(X)\n",
    "    predicted = (hypothesis > 0.5).float()\n",
    "    accuracy = (predicted == Y).float().mean()\n",
    "    print('모델의 출력값(Hypothesis): ', hypothesis.detach().cpu().numpy())\n",
    "    print('모델의 예측값(Predicted): ', predicted.detach().cpu().numpy())\n",
    "    print('실제값(Y): ', Y.cpu().numpy())\n",
    "    print('정확도(Accuracy): ', accuracy.item())"
   ]
  },
  {
   "cell_type": "markdown",
   "id": "567673d6",
   "metadata": {},
   "source": [
    "실제값 0, 1, 1, 0 을 예측 못함"
   ]
  },
  {
   "cell_type": "markdown",
   "id": "c65d2fd5",
   "metadata": {},
   "source": [
    "# multiple layer perceptron"
   ]
  },
  {
   "cell_type": "code",
   "execution_count": 11,
   "id": "9dd225b9",
   "metadata": {},
   "outputs": [],
   "source": [
    "# 다층퍼셉트론 설계\n",
    "model = nn.Sequential(\n",
    "          nn.Linear(2, 10, bias=True), # input_layer = 2, hidden_layer1 = 10\n",
    "          nn.Sigmoid(),\n",
    "          nn.Linear(10, 10, bias=True), # hidden_layer1 = 10, hidden_layer2 = 10\n",
    "          nn.Sigmoid(),\n",
    "          nn.Linear(10, 10, bias=True), # hidden_layer2 = 10, hidden_layer3 = 10\n",
    "          nn.Sigmoid(),\n",
    "          nn.Linear(10, 1, bias=True), # hidden_layer3 = 10, output_layer = 1\n",
    "          nn.Sigmoid()\n",
    "          ).to(device)"
   ]
  },
  {
   "cell_type": "code",
   "execution_count": 12,
   "id": "793ed07a",
   "metadata": {},
   "outputs": [],
   "source": [
    "criterion = torch.nn.BCELoss().to(device)\n",
    "optimizer = torch.optim.SGD(model.parameters(), lr=1)  # modified learning rate from 0.1 to 1"
   ]
  },
  {
   "cell_type": "code",
   "execution_count": 13,
   "id": "a663468d",
   "metadata": {},
   "outputs": [
    {
     "name": "stdout",
     "output_type": "stream",
     "text": [
      "0 0.6940630674362183\n",
      "100 0.6931129693984985\n",
      "200 0.6931090354919434\n",
      "300 0.6931048631668091\n",
      "400 0.6930999755859375\n",
      "500 0.6930947303771973\n",
      "600 0.6930886507034302\n",
      "700 0.693081796169281\n",
      "800 0.6930739879608154\n",
      "900 0.6930649876594543\n",
      "1000 0.6930544376373291\n",
      "1100 0.6930420398712158\n",
      "1200 0.6930271983146667\n",
      "1300 0.6930093765258789\n",
      "1400 0.6929875016212463\n",
      "1500 0.6929603219032288\n",
      "1600 0.6929258108139038\n",
      "1700 0.6928810477256775\n",
      "1800 0.6928214430809021\n",
      "1900 0.6927394866943359\n",
      "2000 0.6926223039627075\n",
      "2100 0.6924462914466858\n",
      "2200 0.6921651363372803\n",
      "2300 0.6916765570640564\n",
      "2400 0.6907236576080322\n",
      "2500 0.6885188817977905\n",
      "2600 0.6817604303359985\n",
      "2700 0.648772120475769\n",
      "2800 0.5389831066131592\n",
      "2900 0.34274017810821533\n",
      "3000 0.01744232513010502\n",
      "3100 0.007370971143245697\n",
      "3200 0.0044684456661343575\n",
      "3300 0.0031452307011932135\n",
      "3400 0.0024015866219997406\n",
      "3500 0.0019298995612189174\n",
      "3600 0.0016061291098594666\n",
      "3700 0.0013711267383769155\n",
      "3800 0.0011933489004150033\n",
      "3900 0.0010544911492615938\n",
      "4000 0.0009432310471311212\n",
      "4100 0.0008522514253854752\n",
      "4200 0.0007765209302306175\n",
      "4300 0.0007126064738258719\n",
      "4400 0.0006579409819096327\n",
      "4500 0.000610733637586236\n",
      "4600 0.0005695371655747294\n",
      "4700 0.0005333370063453913\n",
      "4800 0.0005012678448110819\n",
      "4900 0.00047264349996112287\n",
      "5000 0.00044698669807985425\n",
      "5100 0.00042384990956634283\n",
      "5200 0.0004029199481010437\n",
      "5300 0.0003838537959381938\n",
      "5400 0.0003664277319330722\n",
      "5500 0.0003504627966322005\n",
      "5600 0.00033576515852473676\n",
      "5700 0.0003222155210096389\n",
      "5800 0.00030964979669079185\n",
      "5900 0.00029799353796988726\n",
      "6000 0.00028715719236060977\n",
      "6100 0.000277036422630772\n",
      "6200 0.0002676013973541558\n",
      "6300 0.0002587179187685251\n",
      "6400 0.0002504158765077591\n",
      "6500 0.00024260571808554232\n",
      "6600 0.0002352129522478208\n",
      "6700 0.00022831209935247898\n",
      "6800 0.00022170938609633595\n",
      "6900 0.00021550913515966386\n",
      "7000 0.00020962191047146916\n",
      "7100 0.00020401790970936418\n",
      "7200 0.00019871200493071228\n",
      "7300 0.00019365950720384717\n",
      "7400 0.000188845515367575\n",
      "7500 0.0001842550846049562\n",
      "7600 0.0001798584416974336\n",
      "7700 0.00017568535986356437\n",
      "7800 0.00017170605133287609\n",
      "7900 0.00016784599574748427\n",
      "8000 0.00016420950123574585\n",
      "8100 0.0001606922596693039\n",
      "8200 0.0001573091431055218\n",
      "8300 0.0001540750963613391\n",
      "8400 0.00015096025890670717\n",
      "8500 0.00014794977323617786\n",
      "8600 0.0001450883282814175\n",
      "8700 0.00014228650252334774\n",
      "8800 0.00013961881631985307\n",
      "8900 0.00013704055163543671\n",
      "9000 0.0001345517230220139\n",
      "9100 0.00013213741476647556\n",
      "9200 0.00012979761231690645\n",
      "9300 0.0001275174436159432\n",
      "9400 0.0001253415975952521\n",
      "9500 0.00012325515854172409\n",
      "9600 0.00012122836778871715\n",
      "9700 0.00011926116712857038\n",
      "9800 0.00011732378334272653\n",
      "9900 0.0001155056306743063\n",
      "10000 0.00011365767568349838\n"
     ]
    }
   ],
   "source": [
    "for epoch in range(10001):\n",
    "    optimizer.zero_grad()\n",
    "    # forward 연산\n",
    "    hypothesis = model(X)\n",
    "\n",
    "    # 비용 함수\n",
    "    cost = criterion(hypothesis, Y)\n",
    "    cost.backward()\n",
    "    optimizer.step()\n",
    "\n",
    "    # 100의 배수에 해당되는 에포크마다 비용을 출력\n",
    "    if epoch % 100 == 0:\n",
    "        print(epoch, cost.item())"
   ]
  },
  {
   "cell_type": "code",
   "execution_count": 14,
   "id": "c240f9cd",
   "metadata": {},
   "outputs": [
    {
     "name": "stdout",
     "output_type": "stream",
     "text": [
      "모델의 출력값(Hypothesis):  [[9.5083487e-05]\n",
      " [9.9987721e-01]\n",
      " [9.9988139e-01]\n",
      " [1.1814565e-04]]\n",
      "모델의 예측값(Predicted):  [[0.]\n",
      " [1.]\n",
      " [1.]\n",
      " [0.]]\n",
      "실제값(Y):  [[0.]\n",
      " [1.]\n",
      " [1.]\n",
      " [0.]]\n",
      "정확도(Accuracy):  1.0\n"
     ]
    }
   ],
   "source": [
    "with torch.no_grad():\n",
    "    hypothesis = model(X)\n",
    "    predicted = (hypothesis > 0.5).float()\n",
    "    accuracy = (predicted == Y).float().mean()\n",
    "    print('모델의 출력값(Hypothesis): ', hypothesis.detach().cpu().numpy())\n",
    "    print('모델의 예측값(Predicted): ', predicted.detach().cpu().numpy())\n",
    "    print('실제값(Y): ', Y.cpu().numpy())\n",
    "    print('정확도(Accuracy): ', accuracy.item())"
   ]
  },
  {
   "cell_type": "code",
   "execution_count": null,
   "id": "56967bb5",
   "metadata": {},
   "outputs": [],
   "source": []
  }
 ],
 "metadata": {
  "kernelspec": {
   "display_name": "Python 3",
   "language": "python",
   "name": "python3"
  },
  "language_info": {
   "codemirror_mode": {
    "name": "ipython",
    "version": 3
   },
   "file_extension": ".py",
   "mimetype": "text/x-python",
   "name": "python",
   "nbconvert_exporter": "python",
   "pygments_lexer": "ipython3",
   "version": "3.8.8"
  }
 },
 "nbformat": 4,
 "nbformat_minor": 5
}

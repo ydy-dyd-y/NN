{
 "cells": [
  {
   "cell_type": "code",
   "execution_count": null,
   "id": "744c7815",
   "metadata": {},
   "outputs": [],
   "source": [
    "#각 모델 객체 지정해주고\n",
    "netA = Model()\n",
    "netB = Model()"
   ]
  },
  {
   "cell_type": "code",
   "execution_count": null,
   "id": "fe5b4245",
   "metadata": {},
   "outputs": [],
   "source": [
    "# 생성한 모델들 각각에 모멘텀을 갖는 SGD를 사용해 옵티마이저 초기화\n",
    "optimizerA = optim.sGD(netA.parameters(), lr=0.001, momentum=0.9)\n",
    "optimizerB = optim.sGD(netA.parameters(), lr=0.001, momentum=0.9)\n"
   ]
  },
  {
   "cell_type": "code",
   "execution_count": null,
   "id": "0885bbc5",
   "metadata": {},
   "outputs": [],
   "source": [
    "# 저장할 경로 지정\n",
    "PATH = \"model.pt\"\n",
    "\n",
    "torch.save({\n",
    "            'modelA_state_dict': netA.state_dict(),\n",
    "            'modelB_state_dict': netB.state_dict(),\n",
    "            'optimizerA_state_dict': optimizerA.state_dict(),\n",
    "            'optimizerB_state_dict': optimizerB.state_dict(),\n",
    "            }, PATH)"
   ]
  }
 ],
 "metadata": {
  "kernelspec": {
   "display_name": "Python 3",
   "language": "python",
   "name": "python3"
  },
  "language_info": {
   "codemirror_mode": {
    "name": "ipython",
    "version": 3
   },
   "file_extension": ".py",
   "mimetype": "text/x-python",
   "name": "python",
   "nbconvert_exporter": "python",
   "pygments_lexer": "ipython3",
   "version": "3.8.8"
  }
 },
 "nbformat": 4,
 "nbformat_minor": 5
}

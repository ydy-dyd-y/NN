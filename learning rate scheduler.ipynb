{
 "cells": [
  {
   "cell_type": "code",
   "execution_count": 2,
   "id": "d3f7eae9",
   "metadata": {},
   "outputs": [
    {
     "ename": "ModuleNotFoundError",
     "evalue": "No module named 'Data'",
     "output_type": "error",
     "traceback": [
      "\u001b[1;31m---------------------------------------------------------------------------\u001b[0m",
      "\u001b[1;31mModuleNotFoundError\u001b[0m                       Traceback (most recent call last)",
      "\u001b[1;32m<ipython-input-2-3e69ea41e1b5>\u001b[0m in \u001b[0;36m<module>\u001b[1;34m\u001b[0m\n\u001b[0;32m      2\u001b[0m \u001b[1;32mimport\u001b[0m \u001b[0mtorch\u001b[0m\u001b[1;33m.\u001b[0m\u001b[0mnn\u001b[0m \u001b[1;32mas\u001b[0m \u001b[0mnn\u001b[0m\u001b[1;33m\u001b[0m\u001b[1;33m\u001b[0m\u001b[0m\n\u001b[0;32m      3\u001b[0m \u001b[1;32mimport\u001b[0m \u001b[0mtorch\u001b[0m\u001b[1;33m.\u001b[0m\u001b[0moptim\u001b[0m \u001b[1;32mas\u001b[0m \u001b[0moptim\u001b[0m\u001b[1;33m\u001b[0m\u001b[1;33m\u001b[0m\u001b[0m\n\u001b[1;32m----> 4\u001b[1;33m \u001b[1;32mfrom\u001b[0m \u001b[0mData\u001b[0m \u001b[1;32mimport\u001b[0m \u001b[0mAudioDataset\u001b[0m\u001b[1;33m,\u001b[0m \u001b[0mAudioDataLoader\u001b[0m\u001b[1;33m\u001b[0m\u001b[1;33m\u001b[0m\u001b[0m\n\u001b[0m\u001b[0;32m      5\u001b[0m \u001b[1;32mfrom\u001b[0m \u001b[0mmatplotlib\u001b[0m \u001b[1;32mimport\u001b[0m \u001b[0mpyplot\u001b[0m \u001b[1;32mas\u001b[0m \u001b[0mplt\u001b[0m\u001b[1;33m\u001b[0m\u001b[1;33m\u001b[0m\u001b[0m\n\u001b[0;32m      6\u001b[0m \u001b[1;33m\u001b[0m\u001b[0m\n",
      "\u001b[1;31mModuleNotFoundError\u001b[0m: No module named 'Data'"
     ]
    }
   ],
   "source": [
    "import torch\n",
    "import torch.nn as nn\n",
    "import torch.optim as optim\n",
    "from data import AudioDataset, AudioDataLoader\n",
    "from matplotlib import pyplot as plt\n",
    "\n",
    "class Model(nn.Module):\n",
    "    def __init__(self):\n",
    "        super(Model, self).__init__()\n",
    "        self.linear = nn.Linear(10, 10)\n",
    "        self.activation = nn.ReLU()\n",
    "    def forward(self, x):\n",
    "        return self.activation(self.linear1(x))\n",
    "\n",
    "# data\n",
    "tr_dataset = AudioDatset('tr')\n",
    "data_loader = AudioDataLoader(tr_dataset, batch_size=3, shuffle=1)\n",
    "# model\n",
    "model = Model()\n",
    "# loss\n",
    "loss = nn.MSELoss()\n",
    "# optimizer\n",
    "optimizer = optim.Adam(model.parameters(), lr=1e-3)\n",
    "#scheduler\n",
    "scheduler = optim.lr_scheduler.LambdaLR(optimizer=optimizer,\n",
    "                                lr_lambda=lambda epoch: 0.95 ** epoch,\n",
    "                                last_epoch=-1,\n",
    "                                verbose=False)\n",
    "\n",
    "epochs=100\n",
    "for epoch in range(epochs):\n",
    "    for i, (data) in enumerate(data_loader):\n",
    "        x_data, y_data = data\n",
    "        optimizer.zero_grad()\n",
    "    \n",
    "        estimated_y = model(x_data)\n",
    "        loss = loss(y_data, estimated_y)\n",
    "        loss.backward()\n",
    "    \n",
    "        optimizer.step()\n",
    "        scheduler.step() # you can set it like this!"
   ]
  },
  {
   "cell_type": "markdown",
   "id": "489c1e43",
   "metadata": {},
   "source": [
    "# LambdaLR"
   ]
  },
  {
   "cell_type": "markdown",
   "id": "319e01d3",
   "metadata": {},
   "source": [
    "lr_epoch = lr_initial * Lambda(epoch)"
   ]
  },
  {
   "cell_type": "code",
   "execution_count": 3,
   "id": "330205ce",
   "metadata": {},
   "outputs": [
    {
     "ename": "NameError",
     "evalue": "name 'model' is not defined",
     "output_type": "error",
     "traceback": [
      "\u001b[1;31m---------------------------------------------------------------------------\u001b[0m",
      "\u001b[1;31mNameError\u001b[0m                                 Traceback (most recent call last)",
      "\u001b[1;32m<ipython-input-3-b40279f49cb1>\u001b[0m in \u001b[0;36m<module>\u001b[1;34m\u001b[0m\n\u001b[1;32m----> 1\u001b[1;33m \u001b[0moptimizer\u001b[0m \u001b[1;33m=\u001b[0m \u001b[0mtorch\u001b[0m\u001b[1;33m.\u001b[0m\u001b[0moptim\u001b[0m\u001b[1;33m.\u001b[0m\u001b[0mSGD\u001b[0m\u001b[1;33m(\u001b[0m\u001b[0mmodel\u001b[0m\u001b[1;33m.\u001b[0m\u001b[0mparameters\u001b[0m\u001b[1;33m(\u001b[0m\u001b[1;33m)\u001b[0m\u001b[1;33m,\u001b[0m \u001b[0mlr\u001b[0m\u001b[1;33m=\u001b[0m\u001b[1;36m0.0001\u001b[0m\u001b[1;33m)\u001b[0m\u001b[1;33m\u001b[0m\u001b[1;33m\u001b[0m\u001b[0m\n\u001b[0m\u001b[0;32m      2\u001b[0m scheduler = optim.lr_scheduler.LambdaLR(optimizer=optimizer,\n\u001b[0;32m      3\u001b[0m                                 lr_lambda=lambda epoch: 0.95 ** epoch)\n",
      "\u001b[1;31mNameError\u001b[0m: name 'model' is not defined"
     ]
    }
   ],
   "source": [
    "optimizer = torch.optim.SGD(model.parameters(), lr=0.0001)\n",
    "scheduler = optim.lr_scheduler.LambdaLR(optimizer=optimizer,\n",
    "                                lr_lambda=lambda epoch: 0.95 ** epoch)"
   ]
  },
  {
   "cell_type": "markdown",
   "id": "fd0b4cea",
   "metadata": {},
   "source": [
    "# MultiplicativeLR"
   ]
  },
  {
   "cell_type": "markdown",
   "id": "5bb4ded5",
   "metadata": {},
   "source": [
    "lr_epoch = lr_epoch-1 * Lambda(epoch)"
   ]
  },
  {
   "cell_type": "code",
   "execution_count": 4,
   "id": "85a6bdfb",
   "metadata": {},
   "outputs": [
    {
     "ename": "NameError",
     "evalue": "name 'model' is not defined",
     "output_type": "error",
     "traceback": [
      "\u001b[1;31m---------------------------------------------------------------------------\u001b[0m",
      "\u001b[1;31mNameError\u001b[0m                                 Traceback (most recent call last)",
      "\u001b[1;32m<ipython-input-4-876d2407aec0>\u001b[0m in \u001b[0;36m<module>\u001b[1;34m\u001b[0m\n\u001b[1;32m----> 1\u001b[1;33m \u001b[0moptimizer\u001b[0m \u001b[1;33m=\u001b[0m \u001b[0mtorch\u001b[0m\u001b[1;33m.\u001b[0m\u001b[0moptim\u001b[0m\u001b[1;33m.\u001b[0m\u001b[0mSGD\u001b[0m\u001b[1;33m(\u001b[0m\u001b[0mmodel\u001b[0m\u001b[1;33m.\u001b[0m\u001b[0mparameters\u001b[0m\u001b[1;33m(\u001b[0m\u001b[1;33m)\u001b[0m\u001b[1;33m,\u001b[0m \u001b[0mlr\u001b[0m\u001b[1;33m=\u001b[0m\u001b[1;36m0.0001\u001b[0m\u001b[1;33m)\u001b[0m\u001b[1;33m\u001b[0m\u001b[1;33m\u001b[0m\u001b[0m\n\u001b[0m\u001b[0;32m      2\u001b[0m scheduler = optim.lr_scheduler.MultiplicativeLR(optimizer=optimizer,\n\u001b[0;32m      3\u001b[0m                                 lr_lambda=lambda epoch: 0.95 ** epoch)\n",
      "\u001b[1;31mNameError\u001b[0m: name 'model' is not defined"
     ]
    }
   ],
   "source": [
    "optimizer = torch.optim.SGD(model.parameters(), lr=0.0001)\n",
    "scheduler = optim.lr_scheduler.MultiplicativeLR(optimizer=optimizer,\n",
    "                                lr_lambda=lambda epoch: 0.95 ** epoch)"
   ]
  },
  {
   "cell_type": "markdown",
   "id": "6f6923c0",
   "metadata": {},
   "source": [
    "# StepLR"
   ]
  },
  {
   "cell_type": "code",
   "execution_count": null,
   "id": "30df08c7",
   "metadata": {},
   "outputs": [],
   "source": [
    "optimizer = torch.optim.SGD(model.parameters(), lr=0.0001)\n",
    "scheduler = optim.lr_scheduler.StepLR(optimizer, step_size=10, gamma=0.5)\n",
    "# 각 epoch에서 step_size일 때마다(if epoch%step_size==0) gamma 의 비율로 lr을 감소시킨다.\n",
    "# 계단식의 learning rate graph가 그려짐"
   ]
  },
  {
   "cell_type": "markdown",
   "id": "8399633c",
   "metadata": {},
   "source": [
    "# MultiStepLR"
   ]
  },
  {
   "cell_type": "code",
   "execution_count": null,
   "id": "e2e2728d",
   "metadata": {},
   "outputs": [],
   "source": [
    "optimizer = torch.optim.SGD(model.parameters(), lr=0.0001)\n",
    "scheduler = optim.lr_scheduler.MultiStepLR(optimizer, milestones=[30,80], gamma=0.5)\n",
    "# step_size 대신 learning rate를 감소시킬 epoch 을 지정해줌(milestone)"
   ]
  },
  {
   "cell_type": "markdown",
   "id": "5b69d8a4",
   "metadata": {},
   "source": [
    "# ExponentialLR"
   ]
  },
  {
   "cell_type": "code",
   "execution_count": null,
   "id": "7f2b7ccf",
   "metadata": {},
   "outputs": [],
   "source": [
    "#l learning rate decay가 exponential 함수를 따름\n",
    "optimizer = torch.optim.SGD(model.parameters(), lr=0.0001)\n",
    "scheduler = optim.lr_scheduler.ExponentialLR(optimizer, gamma=0.5)"
   ]
  },
  {
   "cell_type": "markdown",
   "id": "5efe5c4d",
   "metadata": {},
   "source": [
    "# CosineAnnealingLR\n",
    "##### learning rate가 cos 함수를 따라서 eta_min까지 떨어졌다가 다시 초기 lr까지 올라옴"
   ]
  },
  {
   "cell_type": "code",
   "execution_count": 8,
   "id": "aa432cbe",
   "metadata": {},
   "outputs": [
    {
     "ename": "NameError",
     "evalue": "name 'model' is not defined",
     "output_type": "error",
     "traceback": [
      "\u001b[1;31m---------------------------------------------------------------------------\u001b[0m",
      "\u001b[1;31mNameError\u001b[0m                                 Traceback (most recent call last)",
      "\u001b[1;32m<ipython-input-8-ce387f7986e4>\u001b[0m in \u001b[0;36m<module>\u001b[1;34m\u001b[0m\n\u001b[1;32m----> 1\u001b[1;33m \u001b[0moptimizer\u001b[0m \u001b[1;33m=\u001b[0m \u001b[0mtorch\u001b[0m\u001b[1;33m.\u001b[0m\u001b[0moptim\u001b[0m\u001b[1;33m.\u001b[0m\u001b[0mSGD\u001b[0m\u001b[1;33m(\u001b[0m\u001b[0mmodel\u001b[0m\u001b[1;33m.\u001b[0m\u001b[0mparameters\u001b[0m\u001b[1;33m(\u001b[0m\u001b[1;33m)\u001b[0m\u001b[1;33m,\u001b[0m \u001b[0mlr\u001b[0m\u001b[1;33m=\u001b[0m\u001b[1;36m0.0001\u001b[0m\u001b[1;33m)\u001b[0m\u001b[1;33m\u001b[0m\u001b[1;33m\u001b[0m\u001b[0m\n\u001b[0m\u001b[0;32m      2\u001b[0m \u001b[0mscheduler\u001b[0m \u001b[1;33m=\u001b[0m \u001b[0moptim\u001b[0m\u001b[1;33m.\u001b[0m\u001b[0mlr_scheduler\u001b[0m\u001b[1;33m.\u001b[0m\u001b[0mCosineAnnealingLR\u001b[0m\u001b[1;33m(\u001b[0m\u001b[0moptimizer\u001b[0m\u001b[1;33m,\u001b[0m \u001b[0mT_max\u001b[0m\u001b[1;33m=\u001b[0m\u001b[1;36m50\u001b[0m\u001b[1;33m,\u001b[0m \u001b[0meta_min\u001b[0m\u001b[1;33m=\u001b[0m\u001b[1;36m0\u001b[0m\u001b[1;33m)\u001b[0m\u001b[1;33m\u001b[0m\u001b[1;33m\u001b[0m\u001b[0m\n\u001b[0;32m      3\u001b[0m \u001b[1;31m# T_max : 최대 iteration 횟수\u001b[0m\u001b[1;33m\u001b[0m\u001b[1;33m\u001b[0m\u001b[1;33m\u001b[0m\u001b[0m\n",
      "\u001b[1;31mNameError\u001b[0m: name 'model' is not defined"
     ]
    }
   ],
   "source": [
    "optimizer = torch.optim.SGD(model.parameters(), lr=0.0001)\n",
    "scheduler = optim.lr_scheduler.CosineAnnealingLR(optimizer, T_max=50, eta_min=0)\n",
    "# T_max : 최대 iteration 횟수"
   ]
  },
  {
   "cell_type": "markdown",
   "id": "7747c4fe",
   "metadata": {},
   "source": [
    "# ReduceLROnPlateau\n",
    "###### 성능의 향상이 없을 때 learning rate을 감소시킴. \n",
    "###### 따라서 validation loss나 metric(평가지표)을 learning rate step 함수의 input으로 넣어주어야함.\n",
    "###### 그래서 metric이 향상되지 않을 때, patience횟수(epoch)만큼 참고, 그 이후에는 lr을 줄인다. "
   ]
  },
  {
   "cell_type": "code",
   "execution_count": null,
   "id": "5a9d85ab",
   "metadata": {},
   "outputs": [],
   "source": [
    "optimizer = torch.optim.SGD(model.parameters(), lr=0.1, momentum=0.9)    # optimizer에 momentum을 설정해야 사용할 수 있다.\n",
    "scheduler = ReduceLROnPlateau(optimizer, 'min') # 'min' 이나 'max' 중 하나의 모드로 설정해준다\n",
    "                                                # min 은 metric이 감소를 멈출 때, max는 증가를 멈출 때\n",
    "for epoch in range(100):\n",
    "     train(...)\n",
    "     val_loss = validate(...)\n",
    "     # Note that step should be called after validate()\n",
    "     scheduler.step(val_loss)"
   ]
  },
  {
   "cell_type": "markdown",
   "id": "265972e1",
   "metadata": {},
   "source": [
    "# CyclicLR"
   ]
  },
  {
   "cell_type": "code",
   "execution_count": null,
   "id": "7e5466b2",
   "metadata": {},
   "outputs": [],
   "source": [
    "optimizer = torch.optim.SGD(model.parameters(), lr=0.001, momentum=0.9)\n",
    "scheduler = torch.optim.lr_scheduler.CyclicLR(optimizer, base_lr=0.001, \n",
    "                                              max_lr=0.1, step_size_up=50, step_size_down=100, mode='triangular')\n",
    "\n",
    "# base_lr : learning rate의 가장 작은 점인 lower bound\n",
    "# max_lr은 반대로 learning rate의 가장 큰 점인 upper bound\n",
    "# step_size_up은 base_lr → max_lr로 증가하는 epoch 수\n",
    "# step_size_down은 반대로 max_lr → base_lr로 감소하는 epoch 수"
   ]
  },
  {
   "cell_type": "markdown",
   "id": "96df9955",
   "metadata": {},
   "source": [
    "# OneCycleLR"
   ]
  },
  {
   "cell_type": "code",
   "execution_count": null,
   "id": "579d4a05",
   "metadata": {},
   "outputs": [],
   "source": [
    "optimizer = torch.optim.SGD(model.parameters(), lr=0.0001)\n",
    "scheduler = torch.optim.lr_scheduler.OneCycleLR(optimizer, max_lr=0.1, \n",
    "                                                steps_per_epoch=10, epochs=10,anneal_strategy='linear')"
   ]
  },
  {
   "cell_type": "markdown",
   "id": "e82b7ba2",
   "metadata": {},
   "source": [
    "# CosineAnnealingWarmRestarts"
   ]
  },
  {
   "cell_type": "code",
   "execution_count": 5,
   "id": "994a8112",
   "metadata": {},
   "outputs": [
    {
     "ename": "NameError",
     "evalue": "name 'model' is not defined",
     "output_type": "error",
     "traceback": [
      "\u001b[1;31m---------------------------------------------------------------------------\u001b[0m",
      "\u001b[1;31mNameError\u001b[0m                                 Traceback (most recent call last)",
      "\u001b[1;32m<ipython-input-5-4da8bc7248c9>\u001b[0m in \u001b[0;36m<module>\u001b[1;34m\u001b[0m\n\u001b[1;32m----> 1\u001b[1;33m \u001b[0moptimizer\u001b[0m \u001b[1;33m=\u001b[0m \u001b[0mtorch\u001b[0m\u001b[1;33m.\u001b[0m\u001b[0moptim\u001b[0m\u001b[1;33m.\u001b[0m\u001b[0mSGD\u001b[0m\u001b[1;33m(\u001b[0m\u001b[0mmodel\u001b[0m\u001b[1;33m.\u001b[0m\u001b[0mparameters\u001b[0m\u001b[1;33m(\u001b[0m\u001b[1;33m)\u001b[0m\u001b[1;33m,\u001b[0m \u001b[0mlr\u001b[0m\u001b[1;33m=\u001b[0m\u001b[1;36m0.0001\u001b[0m\u001b[1;33m)\u001b[0m\u001b[1;33m\u001b[0m\u001b[1;33m\u001b[0m\u001b[0m\n\u001b[0m\u001b[0;32m      2\u001b[0m scheduler = torch.optim.lr_scheduler.CosineAnnealingWarmRestarts(optimizer, T_0=10, \n\u001b[0;32m      3\u001b[0m                                                                 T_mult=1, eta_min=0.00001)\n",
      "\u001b[1;31mNameError\u001b[0m: name 'model' is not defined"
     ]
    }
   ],
   "source": [
    "optimizer = torch.optim.SGD(model.parameters(), lr=0.0001)\n",
    "scheduler = torch.optim.lr_scheduler.CosineAnnealingWarmRestarts(optimizer, T_0=10, \n",
    "                                                                T_mult=1, eta_min=0.00001)\n",
    "# T_0 : 최초 주기값 \n",
    "# T_mult : 주기가 반복되면서 최초 주기값에 비해 얼만큼 주기를 늘려나갈 것인지 스케일 값에 해당\n",
    "# eta_min : learning rate의 최소값"
   ]
  },
  {
   "cell_type": "code",
   "execution_count": null,
   "id": "717401bf",
   "metadata": {},
   "outputs": [],
   "source": []
  }
 ],
 "metadata": {
  "celltoolbar": "Tags",
  "kernelspec": {
   "display_name": "Python 3",
   "language": "python",
   "name": "python3"
  },
  "language_info": {
   "codemirror_mode": {
    "name": "ipython",
    "version": 3
   },
   "file_extension": ".py",
   "mimetype": "text/x-python",
   "name": "python",
   "nbconvert_exporter": "python",
   "pygments_lexer": "ipython3",
   "version": "3.8.8"
  }
 },
 "nbformat": 4,
 "nbformat_minor": 5
}

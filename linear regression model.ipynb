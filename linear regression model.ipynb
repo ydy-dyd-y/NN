{
 "cells": [
  {
   "cell_type": "code",
   "execution_count": 31,
   "id": "121c44f7",
   "metadata": {},
   "outputs": [],
   "source": [
    "import torch\n",
    "from torch.utils.data import Dataset\n",
    "from torchvision import datasets\n",
    "from torchvision.transforms import ToTensor, Lambda\n",
    "import matplotlib.pyplot as plt\n",
    "import torch.nn.functional as F"
   ]
  },
  {
   "cell_type": "code",
   "execution_count": 32,
   "id": "40117770",
   "metadata": {},
   "outputs": [],
   "source": [
    "import pandas as pd\n",
    "import numpy as np\n",
    "import os"
   ]
  },
  {
   "cell_type": "code",
   "execution_count": null,
   "id": "10ba6b47",
   "metadata": {},
   "outputs": [],
   "source": [
    "torch.manual_seed(1)"
   ]
  },
  {
   "cell_type": "code",
   "execution_count": 33,
   "id": "bf86cf35",
   "metadata": {},
   "outputs": [
    {
     "name": "stdout",
     "output_type": "stream",
     "text": [
      "     Unnamed: 0        ID  Gender  Age  PHQ9_total  GAD7_total STAI_X1_total  \\\n",
      "0             0  YAD30211       1   27          14           9            47   \n",
      "1             1  YAD30504       1   24           3           3            33   \n",
      "2             2  YAD30211       1   26          22          12            47   \n",
      "3             3  YAD30212       1   24          22          10            29   \n",
      "4             4  YAD30213       1   28           8           3            36   \n",
      "..          ...       ...     ...  ...         ...         ...           ...   \n",
      "289         289  MDD20019       1   24          10           8            64   \n",
      "290         290  MDD20020       0   25          10          14            71   \n",
      "291         291  MDD20021       0   31          17          12            62   \n",
      "292         292  MDD20022       0   20          14          11         empty   \n",
      "293         293  MDD20023       1   25           4           0            36   \n",
      "\n",
      "    LSAS_performance_fear LSAS_situation_fear LSAS1_total  ...  \\\n",
      "0                      13                  16          29  ...   \n",
      "1                       6                   5          11  ...   \n",
      "2                      23                  24          47  ...   \n",
      "3                      24                  20          44  ...   \n",
      "4                      12                  10          22  ...   \n",
      "..                    ...                 ...         ...  ...   \n",
      "289                    17                  26          43  ...   \n",
      "290                    10                  17          27  ...   \n",
      "291                    27                  15          42  ...   \n",
      "292                    12                  15          27  ...   \n",
      "293                     0                   1           1  ...   \n",
      "\n",
      "    KSSI_atpt_life_impul    site Visit suicide_risk C1_tod C2_sm C3_si C4_sp  \\\n",
      "0                    0.0  Gachon     2          NaN    NaN   NaN   NaN   NaN   \n",
      "1                    0.0  Gachon     2          NaN    NaN   NaN   NaN   NaN   \n",
      "2                    0.0  Gachon     1          2.0    1.0   0.0   1.0   0.0   \n",
      "3                    0.0  Gachon     1          3.0    1.0   0.0   0.0   1.0   \n",
      "4                    0.0  Gachon     1          1.0    0.0   0.0   0.0   0.0   \n",
      "..                   ...     ...   ...          ...    ...   ...   ...   ...   \n",
      "289                  NaN     SNU     1          1.0    0.0   0.0   0.0   0.0   \n",
      "290                  NaN     SNU     1          2.0    1.0   0.0   1.0   0.0   \n",
      "291                  3.0     SNU     1          2.0    1.0   1.0   1.0   0.0   \n",
      "292                  2.0     SNU     1          2.0    1.0   1.0   1.0   0.0   \n",
      "293                  NaN     SNU     1          1.0    0.0   0.0   0.0   0.0   \n",
      "\n",
      "    C5_sa C6_sa_life  \n",
      "0     NaN        NaN  \n",
      "1     NaN        NaN  \n",
      "2     0.0        0.0  \n",
      "3     1.0        0.0  \n",
      "4     0.0        0.0  \n",
      "..    ...        ...  \n",
      "289   0.0        NaN  \n",
      "290   0.0        NaN  \n",
      "291   0.0        NaN  \n",
      "292   0.0        NaN  \n",
      "293   0.0        NaN  \n",
      "\n",
      "[294 rows x 198 columns]\n",
      "<class 'pandas.core.frame.DataFrame'>\n"
     ]
    }
   ],
   "source": [
    "df_labelled = pd.read_csv('./YAD/Labelled+webmini.csv')\n",
    "print(df_labelled)\n",
    "print(type(df_labelled))"
   ]
  },
  {
   "cell_type": "code",
   "execution_count": 34,
   "id": "ac5c9881",
   "metadata": {},
   "outputs": [
    {
     "name": "stdout",
     "output_type": "stream",
     "text": [
      "float64\n"
     ]
    }
   ],
   "source": [
    "df_labelled['STAI_X1_total'] = pd.to_numeric(df_labelled['STAI_X1_total'], errors='coerce') \n",
    "\n",
    "print(df_labelled['STAI_X1_total'].dtypes)"
   ]
  },
  {
   "cell_type": "code",
   "execution_count": 35,
   "id": "606da0e3",
   "metadata": {},
   "outputs": [],
   "source": [
    "train_df_labelled = df_labelled[df_labelled['site'].isin(['KAIST', 'Gachon'])]\n",
    "test_df_labelled = df_labelled[df_labelled['site'] == 'SMC']\n",
    "valid_df_labelled = df_labelled[df_labelled['site'] == 'SNU']"
   ]
  },
  {
   "cell_type": "code",
   "execution_count": 36,
   "id": "2650df8a",
   "metadata": {},
   "outputs": [
    {
     "name": "stdout",
     "output_type": "stream",
     "text": [
      "     PHQ9_total  GAD7_total  STAI_X1_total\n",
      "0            14           9           47.0\n",
      "1             3           3           33.0\n",
      "2            22          12           47.0\n",
      "3            22          10           29.0\n",
      "4             8           3           36.0\n",
      "..          ...         ...            ...\n",
      "134           2           5           45.0\n",
      "135           9           2           29.0\n",
      "136           4           2           42.0\n",
      "137          15          14           65.0\n",
      "138           6           2           44.0\n",
      "\n",
      "[139 rows x 3 columns]\n"
     ]
    }
   ],
   "source": [
    "train_x = train_df_labelled.loc[:, ['PHQ9_total', 'GAD7_total', 'STAI_X1_total']]\n",
    "test_x = test_df_labelled.loc[:, ['PHQ9_total', 'GAD7_total', 'STAI_X1_total']]\n",
    "valid_x = valid_df_labelled.loc[:, ['PHQ9_total', 'GAD7_total', 'STAI_X1_total']]\n",
    "\n",
    "print(train_x)"
   ]
  },
  {
   "cell_type": "code",
   "execution_count": 37,
   "id": "919528d9",
   "metadata": {},
   "outputs": [
    {
     "name": "stdout",
     "output_type": "stream",
     "text": [
      "    KSSI_total suicidal_idea suicidal_plan suicidal_attempt\n",
      "0           12             1             0                0\n",
      "1            1             0             0                0\n",
      "2           25             1             0                0\n",
      "3           50             1             1                1\n",
      "4            1             0             0                0\n",
      "..         ...           ...           ...              ...\n",
      "134          0             0             0                0\n",
      "135          0             0             0                0\n",
      "136          1             0             0                0\n",
      "137         44             1             1                0\n",
      "138          3             0             0                0\n",
      "\n",
      "[139 rows x 4 columns]\n",
      "<class 'pandas.core.frame.DataFrame'>\n",
      "object\n",
      "object\n",
      "object\n",
      "object\n",
      "float64\n",
      "int64\n",
      "int64\n",
      "int64\n",
      "0      13.0\n",
      "1       1.0\n",
      "2      26.0\n",
      "3      53.0\n",
      "4       1.0\n",
      "       ... \n",
      "134     0.0\n",
      "135     0.0\n",
      "136     1.0\n",
      "137    46.0\n",
      "138     3.0\n",
      "Name: sum, Length: 139, dtype: float64\n",
      "<class 'pandas.core.series.Series'>\n"
     ]
    }
   ],
   "source": [
    "train_y = train_df_labelled.loc[:, ['KSSI_total', 'suicidal_idea', 'suicidal_plan', 'suicidal_attempt']]\n",
    "test_y = test_df_labelled.loc[:, ['KSSI_total', 'suicidal_idea', 'suicidal_plan', 'suicidal_attempt']]\n",
    "valid_y = valid_df_labelled.loc[:, ['KSSI_total', 'suicidal_idea', 'suicidal_plan', 'suicidal_attempt']]\n",
    "\n",
    "print(train_y)\n",
    "print(type(train_y))\n",
    "print(train_df_labelled['KSSI_total'].dtype)\n",
    "print(train_df_labelled['suicidal_idea'].dtype)\n",
    "print(train_df_labelled['suicidal_plan'].dtype)\n",
    "print(train_df_labelled['suicidal_attempt'].dtype)\n",
    "\n",
    "train_y = train_y.apply(pd.to_numeric, errors='coerce')\n",
    "test_y = test_y.apply(pd.to_numeric, errors='coerce')\n",
    "valid_y = valid_y.apply(pd.to_numeric, errors='coerce')\n",
    "\n",
    "print(train_y['KSSI_total'].dtype)\n",
    "print(train_y['suicidal_idea'].dtype)\n",
    "print(train_y['suicidal_plan'].dtype)\n",
    "print(train_y['suicidal_attempt'].dtype)\n",
    "\n",
    "train_y['sum'] = train_y['KSSI_total'] + train_y['suicidal_idea'] + train_y['suicidal_plan'] + train_y['suicidal_attempt']\n",
    "train_y = train_y.iloc[:, 4]\n",
    "#train_y = train_y.drop(['KSSI_total', 'suicidal_idea', 'suicidal_plan', 'suicidal_attempt'], axis=1)\n",
    "print(train_y)\n",
    "print(type(train_y))"
   ]
  },
  {
   "cell_type": "code",
   "execution_count": 38,
   "id": "2d064540",
   "metadata": {},
   "outputs": [],
   "source": [
    "from torch import nn\n",
    "from torch.utils.data import DataLoader\n",
    "from torchvision import datasets, transforms"
   ]
  },
  {
   "cell_type": "code",
   "execution_count": 39,
   "id": "2e7f193b",
   "metadata": {},
   "outputs": [
    {
     "name": "stdout",
     "output_type": "stream",
     "text": [
      "Using cuda device\n"
     ]
    }
   ],
   "source": [
    "device = 'cuda' if torch.cuda.is_available() else 'cpu'\n",
    "print('Using {} device'.format(device))"
   ]
  },
  {
   "cell_type": "code",
   "execution_count": 57,
   "id": "595ba93a",
   "metadata": {},
   "outputs": [
    {
     "data": {
      "text/plain": [
       "tensor([[ 13.],\n",
       "        [  1.],\n",
       "        [ 26.],\n",
       "        [ 53.],\n",
       "        [  1.],\n",
       "        [ 39.],\n",
       "        [ 54.],\n",
       "        [  0.],\n",
       "        [ 70.],\n",
       "        [ 97.],\n",
       "        [ 52.],\n",
       "        [ 77.],\n",
       "        [ 10.],\n",
       "        [  5.],\n",
       "        [ 41.],\n",
       "        [ 36.],\n",
       "        [ 27.],\n",
       "        [107.],\n",
       "        [ 14.],\n",
       "        [ 93.],\n",
       "        [ 23.],\n",
       "        [ 24.],\n",
       "        [ 20.],\n",
       "        [ 38.],\n",
       "        [ 51.],\n",
       "        [  6.],\n",
       "        [  0.],\n",
       "        [  0.],\n",
       "        [  0.],\n",
       "        [  0.],\n",
       "        [  0.],\n",
       "        [  0.],\n",
       "        [  0.],\n",
       "        [  4.],\n",
       "        [  0.],\n",
       "        [  0.],\n",
       "        [  0.],\n",
       "        [ 13.],\n",
       "        [  0.],\n",
       "        [  0.],\n",
       "        [  0.],\n",
       "        [  0.],\n",
       "        [  0.],\n",
       "        [  2.],\n",
       "        [ 45.],\n",
       "        [ 19.],\n",
       "        [  4.],\n",
       "        [ 43.],\n",
       "        [ 32.],\n",
       "        [ 67.],\n",
       "        [ 59.],\n",
       "        [ 18.],\n",
       "        [ 83.],\n",
       "        [ 26.],\n",
       "        [  0.],\n",
       "        [  0.],\n",
       "        [  0.],\n",
       "        [  0.],\n",
       "        [  0.],\n",
       "        [  0.],\n",
       "        [  0.],\n",
       "        [  5.],\n",
       "        [  0.],\n",
       "        [  0.],\n",
       "        [  0.],\n",
       "        [  0.],\n",
       "        [  0.],\n",
       "        [  0.],\n",
       "        [  0.],\n",
       "        [ 13.],\n",
       "        [  0.],\n",
       "        [  2.],\n",
       "        [  0.],\n",
       "        [  0.],\n",
       "        [  0.],\n",
       "        [  0.],\n",
       "        [  0.],\n",
       "        [  0.],\n",
       "        [  1.],\n",
       "        [ 50.],\n",
       "        [  0.],\n",
       "        [  0.],\n",
       "        [  8.],\n",
       "        [ 14.],\n",
       "        [  0.],\n",
       "        [ 17.],\n",
       "        [  5.],\n",
       "        [ 14.],\n",
       "        [ 33.],\n",
       "        [  2.],\n",
       "        [  0.],\n",
       "        [  7.],\n",
       "        [  0.],\n",
       "        [  2.],\n",
       "        [  0.],\n",
       "        [  7.],\n",
       "        [  1.],\n",
       "        [  6.],\n",
       "        [  1.],\n",
       "        [  0.],\n",
       "        [  0.],\n",
       "        [  0.],\n",
       "        [  0.],\n",
       "        [  0.],\n",
       "        [  0.],\n",
       "        [ 15.],\n",
       "        [  2.],\n",
       "        [  0.],\n",
       "        [  6.],\n",
       "        [  0.],\n",
       "        [  0.],\n",
       "        [  0.],\n",
       "        [  9.],\n",
       "        [  0.],\n",
       "        [  0.],\n",
       "        [  0.],\n",
       "        [  6.],\n",
       "        [  0.],\n",
       "        [  0.],\n",
       "        [  0.],\n",
       "        [  1.],\n",
       "        [  0.],\n",
       "        [  0.],\n",
       "        [  0.],\n",
       "        [  0.],\n",
       "        [  2.],\n",
       "        [  0.],\n",
       "        [  0.],\n",
       "        [  0.],\n",
       "        [  1.],\n",
       "        [  4.],\n",
       "        [ 12.],\n",
       "        [  0.],\n",
       "        [  2.],\n",
       "        [  0.],\n",
       "        [  0.],\n",
       "        [  1.],\n",
       "        [ 46.],\n",
       "        [  3.]], dtype=torch.float64)"
      ]
     },
     "execution_count": 57,
     "metadata": {},
     "output_type": "execute_result"
    }
   ],
   "source": [
    "x_train = torch.from_numpy(train_x.values)\n",
    "y_train = torch.from_numpy(train_y.values)\n",
    "torch.nan_to_num_(y_train)\n",
    "y_train.unsqueeze_(1)"
   ]
  },
  {
   "cell_type": "raw",
   "id": "34b1ce33",
   "metadata": {},
   "source": [
    "model = torch.nn.Linear(3,1)"
   ]
  },
  {
   "cell_type": "code",
   "execution_count": 42,
   "id": "6c949783",
   "metadata": {},
   "outputs": [],
   "source": [
    "from torch.autograd import Variable\n",
    "\n",
    "class PModel(torch.nn.Module):\n",
    "    def __init__(self):\n",
    "        super().__init__()\n",
    "        self.fc1 = torch.nn.Linear(3, 3)\n",
    "        self.fc2 = torch.nn.Linear(3, 1)\n",
    "        \n",
    "    def forward(self, x):\n",
    "        x = F.relu(self.fc1(x))\n",
    "        x = F.relu(self.fc1(x))\n",
    "        x = self.fc2(x)\n",
    "        return x\n",
    "    \n",
    "model = PModel()"
   ]
  },
  {
   "cell_type": "code",
   "execution_count": 43,
   "id": "1a6c1efc",
   "metadata": {},
   "outputs": [],
   "source": [
    "optimizer = torch.optim.SGD(model.parameters(),lr=0.005)\n",
    "scheduler = torch.optim.lr_scheduler.CosineAnnealingLR(optimizer, T_max=50, eta_min=0)"
   ]
  },
  {
   "cell_type": "code",
   "execution_count": 58,
   "id": "3691a285",
   "metadata": {},
   "outputs": [
    {
     "name": "stdout",
     "output_type": "stream",
     "text": [
      "Epoch  100/10000 Cost: 495.519379\n",
      "Epoch  200/10000 Cost: 495.519379\n",
      "Epoch  300/10000 Cost: 495.519379\n",
      "Epoch  400/10000 Cost: 495.519379\n",
      "Epoch  500/10000 Cost: 495.519379\n",
      "Epoch  600/10000 Cost: 495.519379\n",
      "Epoch  700/10000 Cost: 495.519379\n",
      "Epoch  800/10000 Cost: 495.519379\n",
      "Epoch  900/10000 Cost: 495.519379\n",
      "Epoch 1000/10000 Cost: 495.519379\n",
      "Epoch 1100/10000 Cost: 495.519379\n",
      "Epoch 1200/10000 Cost: 495.519379\n",
      "Epoch 1300/10000 Cost: 495.519379\n",
      "Epoch 1400/10000 Cost: 495.519379\n",
      "Epoch 1500/10000 Cost: 495.519379\n",
      "Epoch 1600/10000 Cost: 495.519379\n",
      "Epoch 1700/10000 Cost: 495.519379\n",
      "Epoch 1800/10000 Cost: 495.519379\n",
      "Epoch 1900/10000 Cost: 495.519379\n",
      "Epoch 2000/10000 Cost: 495.519379\n",
      "Epoch 2100/10000 Cost: 495.519379\n",
      "Epoch 2200/10000 Cost: 495.519379\n",
      "Epoch 2300/10000 Cost: 495.519379\n",
      "Epoch 2400/10000 Cost: 495.519379\n",
      "Epoch 2500/10000 Cost: 495.519379\n",
      "Epoch 2600/10000 Cost: 495.519379\n",
      "Epoch 2700/10000 Cost: 495.519379\n",
      "Epoch 2800/10000 Cost: 495.519379\n",
      "Epoch 2900/10000 Cost: 495.519379\n",
      "Epoch 3000/10000 Cost: 495.519379\n",
      "Epoch 3100/10000 Cost: 495.519379\n",
      "Epoch 3200/10000 Cost: 495.519379\n",
      "Epoch 3300/10000 Cost: 495.519379\n",
      "Epoch 3400/10000 Cost: 495.519379\n",
      "Epoch 3500/10000 Cost: 495.519379\n",
      "Epoch 3600/10000 Cost: 495.519379\n",
      "Epoch 3700/10000 Cost: 495.519379\n",
      "Epoch 3800/10000 Cost: 495.519379\n",
      "Epoch 3900/10000 Cost: 495.519379\n",
      "Epoch 4000/10000 Cost: 495.519379\n",
      "Epoch 4100/10000 Cost: 495.519379\n",
      "Epoch 4200/10000 Cost: 495.519379\n",
      "Epoch 4300/10000 Cost: 495.519379\n",
      "Epoch 4400/10000 Cost: 495.519379\n",
      "Epoch 4500/10000 Cost: 495.519379\n",
      "Epoch 4600/10000 Cost: 495.519379\n",
      "Epoch 4700/10000 Cost: 495.519379\n",
      "Epoch 4800/10000 Cost: 495.519379\n",
      "Epoch 4900/10000 Cost: 495.519379\n",
      "Epoch 5000/10000 Cost: 495.519379\n",
      "Epoch 5100/10000 Cost: 495.519379\n",
      "Epoch 5200/10000 Cost: 495.519379\n",
      "Epoch 5300/10000 Cost: 495.519379\n",
      "Epoch 5400/10000 Cost: 495.519379\n",
      "Epoch 5500/10000 Cost: 495.519379\n",
      "Epoch 5600/10000 Cost: 495.519379\n",
      "Epoch 5700/10000 Cost: 495.519379\n",
      "Epoch 5800/10000 Cost: 495.519379\n",
      "Epoch 5900/10000 Cost: 495.519379\n",
      "Epoch 6000/10000 Cost: 495.519379\n",
      "Epoch 6100/10000 Cost: 495.519379\n",
      "Epoch 6200/10000 Cost: 495.519379\n",
      "Epoch 6300/10000 Cost: 495.519379\n",
      "Epoch 6400/10000 Cost: 495.519379\n",
      "Epoch 6500/10000 Cost: 495.519379\n",
      "Epoch 6600/10000 Cost: 495.519379\n",
      "Epoch 6700/10000 Cost: 495.519379\n",
      "Epoch 6800/10000 Cost: 495.519379\n",
      "Epoch 6900/10000 Cost: 495.519379\n",
      "Epoch 7000/10000 Cost: 495.519379\n",
      "Epoch 7100/10000 Cost: 495.519379\n",
      "Epoch 7200/10000 Cost: 495.519379\n",
      "Epoch 7300/10000 Cost: 495.519379\n",
      "Epoch 7400/10000 Cost: 495.519379\n",
      "Epoch 7500/10000 Cost: 495.519379\n",
      "Epoch 7600/10000 Cost: 495.519379\n",
      "Epoch 7700/10000 Cost: 495.519379\n",
      "Epoch 7800/10000 Cost: 495.519379\n",
      "Epoch 7900/10000 Cost: 495.519379\n",
      "Epoch 8000/10000 Cost: 495.519379\n",
      "Epoch 8100/10000 Cost: 495.519379\n",
      "Epoch 8200/10000 Cost: 495.519379\n",
      "Epoch 8300/10000 Cost: 495.519379\n",
      "Epoch 8400/10000 Cost: 495.519379\n",
      "Epoch 8500/10000 Cost: 495.519379\n",
      "Epoch 8600/10000 Cost: 495.519379\n",
      "Epoch 8700/10000 Cost: 495.519379\n",
      "Epoch 8800/10000 Cost: 495.519379\n",
      "Epoch 8900/10000 Cost: 495.519379\n",
      "Epoch 9000/10000 Cost: 495.519379\n",
      "Epoch 9100/10000 Cost: 495.519379\n",
      "Epoch 9200/10000 Cost: 495.519379\n",
      "Epoch 9300/10000 Cost: 495.519379\n",
      "Epoch 9400/10000 Cost: 495.519379\n",
      "Epoch 9500/10000 Cost: 495.519379\n",
      "Epoch 9600/10000 Cost: 495.519379\n",
      "Epoch 9700/10000 Cost: 495.519379\n",
      "Epoch 9800/10000 Cost: 495.519379\n",
      "Epoch 9900/10000 Cost: 495.519379\n",
      "Epoch 10000/10000 Cost: 495.519379\n"
     ]
    }
   ],
   "source": [
    "nb_epochs =10000\n",
    "for epoch in range(1, nb_epochs+1):\n",
    "    prediction = model(x_train.float())\n",
    "    cost = F.mse_loss(prediction, y_train.float())\n",
    "\n",
    "    optimizer.zero_grad() \n",
    "    cost.backward() \n",
    "    optimizer.step() \n",
    "    \n",
    "    if(epoch%100==0):\n",
    "        print('Epoch {:4d}/{} Cost: {:.6f}'.format(\n",
    "          epoch, nb_epochs, cost.item()\n",
    "      ))"
   ]
  },
  {
   "cell_type": "code",
   "execution_count": 45,
   "id": "65124a33",
   "metadata": {},
   "outputs": [
    {
     "name": "stdout",
     "output_type": "stream",
     "text": [
      "[Parameter containing:\n",
      "tensor([[-0.2965, -0.4962, -0.2609],\n",
      "        [-0.5015, -0.4705, -0.4388],\n",
      "        [ 0.1099,  0.3225, -0.2975]], requires_grad=True), Parameter containing:\n",
      "tensor([-0.1074, -0.2664, -0.0285], requires_grad=True), Parameter containing:\n",
      "tensor([[-0.5020, -0.3275, -0.5362]], requires_grad=True), Parameter containing:\n",
      "tensor([12.1654], requires_grad=True)]\n"
     ]
    }
   ],
   "source": [
    "print(list(model.parameters()))"
   ]
  },
  {
   "cell_type": "code",
   "execution_count": null,
   "id": "3a182bb8",
   "metadata": {},
   "outputs": [],
   "source": []
  },
  {
   "cell_type": "code",
   "execution_count": 46,
   "id": "8de3f7fa",
   "metadata": {},
   "outputs": [],
   "source": [
    "test_y['sum'] = test_y['KSSI_total'] + test_y['suicidal_idea'] + test_y['suicidal_plan'] + test_y['suicidal_attempt']\n",
    "test_y = test_y.iloc[:, 4]"
   ]
  },
  {
   "cell_type": "code",
   "execution_count": 47,
   "id": "323c6d67",
   "metadata": {},
   "outputs": [
    {
     "data": {
      "text/plain": [
       "tensor([0., 0., 0., 0., 0., 0., 0., 0., 0., 0., 0., 0., 0., 0., 0., 0., 0., 0., 0., 0., 0., 0., 0., 0.,\n",
       "        0., 0., 0., 0., 0., 0., 0., 0., 0., 0., 0., 0., 0., 0., 0., 0., 0., 0., 0., 0., 0., 0., 0., 0.,\n",
       "        0., 0., 0., 0., 0., 0., 0., 0., 0., 0., 0., 0., 0., 0., 0., 0., 0., 0., 0., 0., 0., 0., 0., 0.,\n",
       "        0., 0., 0., 0., 0., 0., 0., 0., 0., 0., 0., 0., 0., 0., 0., 0., 0., 0., 0.],\n",
       "       dtype=torch.float64)"
      ]
     },
     "execution_count": 47,
     "metadata": {},
     "output_type": "execute_result"
    }
   ],
   "source": [
    "x_test = torch.from_numpy(test_x.values)\n",
    "y_test = torch.from_numpy(test_y.values)\n",
    "torch.nan_to_num_(y_test)"
   ]
  },
  {
   "cell_type": "code",
   "execution_count": null,
   "id": "8cd9a623",
   "metadata": {},
   "outputs": [],
   "source": []
  }
 ],
 "metadata": {
  "kernelspec": {
   "display_name": "Python 3",
   "language": "python",
   "name": "python3"
  },
  "language_info": {
   "codemirror_mode": {
    "name": "ipython",
    "version": 3
   },
   "file_extension": ".py",
   "mimetype": "text/x-python",
   "name": "python",
   "nbconvert_exporter": "python",
   "pygments_lexer": "ipython3",
   "version": "3.8.8"
  }
 },
 "nbformat": 4,
 "nbformat_minor": 5
}

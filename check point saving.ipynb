{
 "cells": [
  {
   "cell_type": "markdown",
   "id": "658d9444",
   "metadata": {},
   "source": [
    "###### check point를 저장할 때는 단순히 모델의 state_dict 이상의 것을 저장해야함\n",
    "###### 모델 학습 중에 갱신되는 퍼버와 매개변수들을 포함하는 optimizer의 state_dict을 함께 저장하는 것이 중요\n",
    "###### 그 외에도 중단 시점의 epoch, 마지막으로 기록된 학습 오차(training loss), 외부 torch.nn.Embedding 계층 등, 알고리즘에 따라 저장하고 싶은 항목들이 있을 것\n"
   ]
  },
  {
   "cell_type": "markdown",
   "id": "cfb8d4ef",
   "metadata": {},
   "source": [
    "# 일반적인 체크포인트 저장하기"
   ]
  },
  {
   "cell_type": "code",
   "execution_count": null,
   "id": "cb9ab702",
   "metadata": {},
   "outputs": [],
   "source": [
    "EPOCH = 5\n",
    "PATH = \"model.pt\"\n",
    "LOSS = 0.4\n",
    "\n",
    "torch.save({\n",
    "        'epoch': EPOCH,         #########\n",
    "        'model_state_dict': net.state_dict(),\n",
    "        'optimizer_state_dict': optimizer.state_dict(),\n",
    "        'loss': LOSS,           #########\n",
    "        }, PATH)\n"
   ]
  },
  {
   "cell_type": "markdown",
   "id": "72f381a0",
   "metadata": {},
   "source": [
    "# 일반적인 체크포인트 불러오기"
   ]
  },
  {
   "cell_type": "code",
   "execution_count": null,
   "id": "c7a94626",
   "metadata": {},
   "outputs": [],
   "source": [
    "model = Net()\n",
    "optimizer = optim.SGD(net.parameters(), lr=0.001, momentum=0.9)\n",
    "\n",
    "checkpoint = torch.load(PATH)\n",
    "model.load_state_dict(checkpoint['model_state_dict'])\n",
    "optimizer.load_state_dict(checkpoint['optimizer_state_dict'])\n",
    "epoch = checkpoint['epoch']\n",
    "loss = checkpoint['loss']\n",
    "\n",
    "model.eval()\n",
    "\n",
    "model.train()"
   ]
  },
  {
   "cell_type": "code",
   "execution_count": null,
   "id": "f4263558",
   "metadata": {},
   "outputs": [],
   "source": []
  },
  {
   "cell_type": "code",
   "execution_count": null,
   "id": "ea78d8f2",
   "metadata": {},
   "outputs": [],
   "source": []
  },
  {
   "cell_type": "code",
   "execution_count": null,
   "id": "069845b1",
   "metadata": {},
   "outputs": [],
   "source": []
  }
 ],
 "metadata": {
  "kernelspec": {
   "display_name": "Python 3",
   "language": "python",
   "name": "python3"
  },
  "language_info": {
   "codemirror_mode": {
    "name": "ipython",
    "version": 3
   },
   "file_extension": ".py",
   "mimetype": "text/x-python",
   "name": "python",
   "nbconvert_exporter": "python",
   "pygments_lexer": "ipython3",
   "version": "3.8.8"
  }
 },
 "nbformat": 4,
 "nbformat_minor": 5
}

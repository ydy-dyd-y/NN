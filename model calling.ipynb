{
 "cells": [
  {
   "cell_type": "code",
   "execution_count": null,
   "id": "232bd454",
   "metadata": {},
   "outputs": [],
   "source": [
    "# 먼저 모델과 옵티마이저를 초기화한 후 사전을 불러온다\n",
    "\n",
    "modelA = Net()\n",
    "modelB = Net()\n",
    "optimModelA = optim.SGD(modelA.parameters(), lr=0.001, momentum=0.9)\n",
    "optimModelB = optim.SGD(modelA.parameters(), lr=0.001, momentum=0.9)\n",
    "\n",
    "checkpoint = torch.load(PATH)  # 모델 저장에서 저장할 경로 지정해 준 것 : PATH = \"model.pt\"\n",
    "modelA.load_state_dict(checkpoint['modelA_state_dict'])\n",
    "modelB.load_state_dict(checkpoint['modelB_state_dict'])\n",
    "\n",
    "optimizerA.load_state_dict(checkpoint['optimizerA_state_dict'])\n",
    "optimizerB.load_state_dict(checkpoint['optimizerB_state_dict'])\n",
    "\n",
    "\n",
    "# 추론을 실행하기 전에 model.eval()을 호출해서 드롭아웃과 배치정규화 층을 평가 모드로 바꿔야함(빼먹으면 일관성 없는 추론 결과가 됨)\n",
    "modelA.eval()\n",
    "modelB.eval()\n",
    "########## 또는 #########\n",
    "# 만약 학습을 계속하길 원한다면 이걸로 이 layer들이 학습 모드인지 확인\n",
    "modelA.train()\n",
    "modelB.train()"
   ]
  }
 ],
 "metadata": {
  "kernelspec": {
   "display_name": "Python 3",
   "language": "python",
   "name": "python3"
  },
  "language_info": {
   "codemirror_mode": {
    "name": "ipython",
    "version": 3
   },
   "file_extension": ".py",
   "mimetype": "text/x-python",
   "name": "python",
   "nbconvert_exporter": "python",
   "pygments_lexer": "ipython3",
   "version": "3.8.8"
  }
 },
 "nbformat": 4,
 "nbformat_minor": 5
}

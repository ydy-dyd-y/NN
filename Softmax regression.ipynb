{
 "cells": [
  {
   "cell_type": "markdown",
   "id": "52ca668f",
   "metadata": {},
   "source": [
    "## softmax regression의  cost function 구현하기\n"
   ]
  },
  {
   "cell_type": "markdown",
   "id": "b9d5129d",
   "metadata": {},
   "source": [
    "1. F.softmax() + torch.log() = F.log_softmax()"
   ]
  },
  {
   "cell_type": "code",
   "execution_count": 2,
   "id": "bd6f445b",
   "metadata": {},
   "outputs": [],
   "source": [
    "import torch\n",
    "import torch.nn.functional as F"
   ]
  },
  {
   "cell_type": "code",
   "execution_count": 10,
   "id": "a7d70b59",
   "metadata": {},
   "outputs": [
    {
     "name": "stdout",
     "output_type": "stream",
     "text": [
      "tensor([[0.5359, 0.8606, 0.8324, 0.3124, 0.6616],\n",
      "        [0.8242, 0.1709, 0.2753, 0.0664, 0.2045],\n",
      "        [0.8560, 0.4198, 0.0416, 0.8258, 0.3143]], requires_grad=True)\n"
     ]
    },
    {
     "data": {
      "text/plain": [
       "tensor([[-1.7338, -1.4091, -1.4373, -1.9573, -1.6082],\n",
       "        [-1.1329, -1.7862, -1.6818, -1.8907, -1.7527],\n",
       "        [-1.2924, -1.7286, -2.1068, -1.3225, -1.8340]],\n",
       "       grad_fn=<LogSoftmaxBackward>)"
      ]
     },
     "execution_count": 10,
     "metadata": {},
     "output_type": "execute_result"
    }
   ],
   "source": [
    "z = torch.rand(3, 5, requires_grad=True)\n",
    "print(z)\n",
    "y = torch.randint(5, (3,)).long()\n",
    "# torch.log(F.softmax(z, dim=1))\n",
    "F.log_softmax(z, dim=1)"
   ]
  },
  {
   "cell_type": "markdown",
   "id": "7e96c83b",
   "metadata": {},
   "source": [
    "2. F.log_softmax() + F.nll_loss() = F.cross_entropy()"
   ]
  },
  {
   "cell_type": "code",
   "execution_count": 9,
   "id": "88fa7154",
   "metadata": {},
   "outputs": [
    {
     "data": {
      "text/plain": [
       "tensor(1.6914, grad_fn=<NllLossBackward>)"
      ]
     },
     "execution_count": 9,
     "metadata": {},
     "output_type": "execute_result"
    }
   ],
   "source": [
    "# (y_one_hot * -torch.log(F.softmax(z, dim=1))).sum(dim=1).mean() # low-level로 구현한 비용함수\n",
    "F.nll_loss(F.log_softmax(z, dim=1), y) # Negative Log Likelihood. 원핫벡터를 널을 필요 없이 바로 실제값을 인자로 사용"
   ]
  },
  {
   "cell_type": "code",
   "execution_count": 7,
   "id": "0e35da5e",
   "metadata": {},
   "outputs": [
    {
     "data": {
      "text/plain": [
       "tensor(1.6197, grad_fn=<NllLossBackward>)"
      ]
     },
     "execution_count": 7,
     "metadata": {},
     "output_type": "execute_result"
    }
   ],
   "source": [
    "F.cross_entropy(z, y)           # torch.nn.CrossEntropyLoss() 과 같음"
   ]
  },
  {
   "cell_type": "markdown",
   "id": "f7eccc5b",
   "metadata": {},
   "source": [
    "## softmax regression 구현하기"
   ]
  },
  {
   "cell_type": "code",
   "execution_count": 8,
   "id": "e42e8d91",
   "metadata": {},
   "outputs": [],
   "source": [
    "import torch\n",
    "import torch.nn as nn\n",
    "import torch.nn.functional as F\n",
    "import torch.optim as optim"
   ]
  },
  {
   "cell_type": "code",
   "execution_count": 10,
   "id": "cb4a0b7b",
   "metadata": {},
   "outputs": [],
   "source": [
    "x_train = [[1, 2, 1, 1],\n",
    "           [2, 1, 3, 2],\n",
    "           [3, 1, 3, 4],\n",
    "           [4, 1, 5, 5],\n",
    "           [1, 7, 5, 5],\n",
    "           [1, 2, 5, 6],\n",
    "           [1, 6, 6, 6],\n",
    "           [1, 7, 7, 7]]\n",
    "y_train = [2, 2, 2, 1, 1, 1, 0, 0]\n",
    "x_train = torch.FloatTensor(x_train)    # 총 8개의 샘플이 존재하며, 각 샘플은 4개의 특성을 가짐\n",
    "y_train = torch.LongTensor(y_train)     # 각 샘플에 대한 레이블이며, 여기서는 0, 1, 2  총 3개의 클래스가 존재함"
   ]
  },
  {
   "cell_type": "code",
   "execution_count": 12,
   "id": "c2ff14c9",
   "metadata": {},
   "outputs": [
    {
     "name": "stdout",
     "output_type": "stream",
     "text": [
      "torch.Size([8, 3])\n"
     ]
    }
   ],
   "source": [
    "y_one_hot = torch.zeros(8, 3)         # 클래스의 개수는 3개이므로 y_train에 원-핫 인코딩한 결과는 8 × 3의 개수를 가져야 함\n",
    "y_one_hot.scatter_(1, y_train.unsqueeze(1), 1)\n",
    "print(y_one_hot.shape)"
   ]
  },
  {
   "cell_type": "code",
   "execution_count": null,
   "id": "0a7181aa",
   "metadata": {},
   "outputs": [],
   "source": [
    "W = torch.zeros((4, 3), requires_grad=True)\n",
    "b = torch.zeros(1, requires_grad=True)\n",
    "\n",
    "optimizer = optim.SGD([W, b], lr=0.1)"
   ]
  },
  {
   "cell_type": "markdown",
   "id": "f5d4d0d0",
   "metadata": {},
   "source": [
    "<low - level>"
   ]
  },
  {
   "cell_type": "code",
   "execution_count": null,
   "id": "24ef2502",
   "metadata": {},
   "outputs": [],
   "source": [
    "nb_epochs = 1000\n",
    "for epoch in range(nb_epochs + 1):\n",
    "\n",
    "    # 가설\n",
    "    hypothesis = F.softmax(x_train.matmul(W) + b, dim=1) \n",
    "\n",
    "    # 비용 함수\n",
    "    cost = (y_one_hot * -torch.log(hypothesis)).sum(dim=1).mean()\n",
    "\n",
    "    # cost로 H(x) 개선\n",
    "    optimizer.zero_grad()\n",
    "    cost.backward()\n",
    "    optimizer.step()\n",
    "\n",
    "    # 100번마다 로그 출력\n",
    "    if epoch % 100 == 0:\n",
    "        print('Epoch {:4d}/{} Cost: {:.6f}'.format(\n",
    "            epoch, nb_epochs, cost.item()\n",
    "        ))"
   ]
  },
  {
   "cell_type": "markdown",
   "id": "fd2d1056",
   "metadata": {},
   "source": [
    "<High level>"
   ]
  },
  {
   "cell_type": "markdown",
   "id": "7be59fb6",
   "metadata": {},
   "source": [
    "<high - level>"
   ]
  },
  {
   "cell_type": "code",
   "execution_count": null,
   "id": "39d93452",
   "metadata": {},
   "outputs": [],
   "source": [
    "nb_epochs = 1000\n",
    "for epoch in range(nb_epochs + 1):\n",
    "\n",
    "    # Cost 계산\n",
    "    z = x_train.matmul(W) + b\n",
    "    cost = F.cross_entropy(z, y_train)\n",
    "\n",
    "    # cost로 H(x) 개선\n",
    "    optimizer.zero_grad()\n",
    "    cost.backward()\n",
    "    optimizer.step()\n",
    "\n",
    "    # 100번마다 로그 출력\n",
    "    if epoch % 100 == 0:\n",
    "        print('Epoch {:4d}/{} Cost: {:.6f}'.format(\n",
    "            epoch, nb_epochs, cost.item()\n",
    "        ))"
   ]
  },
  {
   "cell_type": "markdown",
   "id": "7e6a90a5",
   "metadata": {},
   "source": [
    "<nn.Module로 구현하기>"
   ]
  },
  {
   "cell_type": "code",
   "execution_count": 13,
   "id": "4b9ad7cb",
   "metadata": {},
   "outputs": [],
   "source": [
    "# 모델을 선언 및 초기화. 4개의 특성을 가지고 3개의 클래스로 분류. input_dim=4, output_dim=3.\n",
    "model = nn.Linear(4, 3)"
   ]
  },
  {
   "cell_type": "code",
   "execution_count": 14,
   "id": "8d7da289",
   "metadata": {},
   "outputs": [
    {
     "name": "stdout",
     "output_type": "stream",
     "text": [
      "Epoch    0/1000 Cost: 1.480385\n",
      "Epoch  100/1000 Cost: 0.714275\n",
      "Epoch  200/1000 Cost: 0.624039\n",
      "Epoch  300/1000 Cost: 0.563412\n",
      "Epoch  400/1000 Cost: 0.511285\n",
      "Epoch  500/1000 Cost: 0.462559\n",
      "Epoch  600/1000 Cost: 0.415360\n",
      "Epoch  700/1000 Cost: 0.368847\n",
      "Epoch  800/1000 Cost: 0.322791\n",
      "Epoch  900/1000 Cost: 0.278408\n",
      "Epoch 1000/1000 Cost: 0.245999\n"
     ]
    }
   ],
   "source": [
    "optimizer = optim.SGD(model.parameters(), lr=0.1)\n",
    "\n",
    "nb_epochs = 1000\n",
    "for epoch in range(nb_epochs + 1):\n",
    "\n",
    "    # H(x) 계산\n",
    "    prediction = model(x_train)\n",
    "\n",
    "    # cost 계산\n",
    "    cost = F.cross_entropy(prediction, y_train)\n",
    "\n",
    "    # cost로 H(x) 개선\n",
    "    optimizer.zero_grad()\n",
    "    cost.backward()\n",
    "    optimizer.step()\n",
    "\n",
    "    # 20번마다 로그 출력\n",
    "    if epoch % 100 == 0:\n",
    "        print('Epoch {:4d}/{} Cost: {:.6f}'.format(\n",
    "            epoch, nb_epochs, cost.item()\n",
    "        ))"
   ]
  },
  {
   "cell_type": "markdown",
   "id": "9ba02ac6",
   "metadata": {},
   "source": [
    "<Class로 구현하기>\n",
    "위의 방법과 차이라고 할 수 있는 것은 model = nn.Linear(4, 3) 부분을 클래스 정의할 때 self.linear = nn.Linear(4, 3)부분으로 넣어줘서 \n",
    "model = SoftmaxClassifierModel()이렇게 한것 밖에 없다. "
   ]
  },
  {
   "cell_type": "code",
   "execution_count": 15,
   "id": "7981fd05",
   "metadata": {},
   "outputs": [],
   "source": [
    "class SoftmaxClassifierModel(nn.Module):\n",
    "    def __init__(self):\n",
    "        super().__init__()\n",
    "        self.linear = nn.Linear(4, 3) # Output이 3!\n",
    "\n",
    "    def forward(self, x):\n",
    "        return self.linear(x)"
   ]
  },
  {
   "cell_type": "code",
   "execution_count": 16,
   "id": "a158b315",
   "metadata": {},
   "outputs": [],
   "source": [
    "model = SoftmaxClassifierModel()"
   ]
  },
  {
   "cell_type": "code",
   "execution_count": 17,
   "id": "6d4f88dc",
   "metadata": {},
   "outputs": [
    {
     "name": "stdout",
     "output_type": "stream",
     "text": [
      "Epoch    0/1000 Cost: 3.143817\n",
      "Epoch  100/1000 Cost: 0.712404\n",
      "Epoch  200/1000 Cost: 0.629844\n",
      "Epoch  300/1000 Cost: 0.572103\n",
      "Epoch  400/1000 Cost: 0.521461\n",
      "Epoch  500/1000 Cost: 0.473762\n",
      "Epoch  600/1000 Cost: 0.427411\n",
      "Epoch  700/1000 Cost: 0.381635\n",
      "Epoch  800/1000 Cost: 0.336118\n",
      "Epoch  900/1000 Cost: 0.291341\n",
      "Epoch 1000/1000 Cost: 0.252489\n"
     ]
    }
   ],
   "source": [
    "optimizer = optim.SGD(model.parameters(), lr=0.1)\n",
    "\n",
    "nb_epochs = 1000\n",
    "for epoch in range(nb_epochs + 1):\n",
    "\n",
    "    # H(x) 계산\n",
    "    prediction = model(x_train)\n",
    "\n",
    "    # cost 계산\n",
    "    cost = F.cross_entropy(prediction, y_train)\n",
    "\n",
    "    # cost로 H(x) 개선\n",
    "    optimizer.zero_grad()\n",
    "    cost.backward()\n",
    "    optimizer.step()\n",
    "\n",
    "    # 20번마다 로그 출력\n",
    "    if epoch % 100 == 0:\n",
    "        print('Epoch {:4d}/{} Cost: {:.6f}'.format(\n",
    "            epoch, nb_epochs, cost.item()\n",
    "        ))"
   ]
  },
  {
   "cell_type": "code",
   "execution_count": null,
   "id": "d9bc3308",
   "metadata": {},
   "outputs": [],
   "source": []
  },
  {
   "cell_type": "code",
   "execution_count": null,
   "id": "224f257c",
   "metadata": {},
   "outputs": [],
   "source": []
  }
 ],
 "metadata": {
  "kernelspec": {
   "display_name": "Python 3",
   "language": "python",
   "name": "python3"
  },
  "language_info": {
   "codemirror_mode": {
    "name": "ipython",
    "version": 3
   },
   "file_extension": ".py",
   "mimetype": "text/x-python",
   "name": "python",
   "nbconvert_exporter": "python",
   "pygments_lexer": "ipython3",
   "version": "3.8.8"
  }
 },
 "nbformat": 4,
 "nbformat_minor": 5
}

{
 "cells": [
  {
   "cell_type": "code",
   "execution_count": 1,
   "id": "062458e9",
   "metadata": {},
   "outputs": [],
   "source": [
    "import torch"
   ]
  },
  {
   "cell_type": "code",
   "execution_count": 3,
   "id": "19e6a634",
   "metadata": {},
   "outputs": [],
   "source": [
    "a = torch.tensor([[1,2,3],\n",
    "                 [5,1,3]])"
   ]
  },
  {
   "cell_type": "code",
   "execution_count": 4,
   "id": "fa693c47",
   "metadata": {},
   "outputs": [
    {
     "name": "stdout",
     "output_type": "stream",
     "text": [
      "tensor([[ 1,  4,  9],\n",
      "        [25,  1,  9]])\n"
     ]
    }
   ],
   "source": [
    "print(a**2)"
   ]
  },
  {
   "cell_type": "code",
   "execution_count": 7,
   "id": "b0591647",
   "metadata": {},
   "outputs": [
    {
     "name": "stdout",
     "output_type": "stream",
     "text": [
      "tensor(2.5000)\n"
     ]
    }
   ],
   "source": [
    "print(torch.mean(a.float()))"
   ]
  },
  {
   "cell_type": "code",
   "execution_count": 8,
   "id": "a46a2906",
   "metadata": {},
   "outputs": [],
   "source": [
    "b = torch.mean(a.float())"
   ]
  },
  {
   "cell_type": "code",
   "execution_count": 11,
   "id": "ad504fa3",
   "metadata": {},
   "outputs": [
    {
     "name": "stdout",
     "output_type": "stream",
     "text": [
      "torch.Size([])\n"
     ]
    }
   ],
   "source": [
    "print(b.shape)"
   ]
  },
  {
   "cell_type": "code",
   "execution_count": null,
   "id": "752655dc",
   "metadata": {},
   "outputs": [],
   "source": []
  }
 ],
 "metadata": {
  "kernelspec": {
   "display_name": "Python 3",
   "language": "python",
   "name": "python3"
  },
  "language_info": {
   "codemirror_mode": {
    "name": "ipython",
    "version": 3
   },
   "file_extension": ".py",
   "mimetype": "text/x-python",
   "name": "python",
   "nbconvert_exporter": "python",
   "pygments_lexer": "ipython3",
   "version": "3.8.8"
  }
 },
 "nbformat": 4,
 "nbformat_minor": 5
}
